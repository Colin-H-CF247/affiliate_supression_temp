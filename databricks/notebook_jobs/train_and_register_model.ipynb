{
 "cells": [
  {
   "attachments": {},
   "cell_type": "markdown",
   "metadata": {},
   "source": [
    "# Train and Register example model"
   ]
  },
  {
   "cell_type": "code",
   "execution_count": 12,
   "metadata": {},
   "outputs": [
    {
     "name": "stdout",
     "output_type": "stream",
     "text": [
      "SDK version: 1.49.0\n",
      "MLflow version: 2.1.1\n",
      "mlw-ml-dev\n",
      "rg-data-science-dev\n",
      "uksouth\n",
      "6cbe45a0-6565-4c4a-b1a9-0929f276bbcd\n"
     ]
    },
    {
     "data": {
      "text/plain": [
       "Workspace.create(name='mlw-ml-dev', subscription_id='6cbe45a0-6565-4c4a-b1a9-0929f276bbcd', resource_group='rg-data-science-dev')"
      ]
     },
     "execution_count": 12,
     "metadata": {},
     "output_type": "execute_result"
    }
   ],
   "source": [
    "from datascience_core.config import LocalConfig\n",
    "from datascience_core.modelling import MLFlowManager\n",
    "import mlflow\n",
    "\n",
    "# Load the config\n",
    "env_config = LocalConfig.get_environment()\n",
    "\n",
    "# Initialise the MlFlowManager\n",
    "experiment_name = \"test_experiment_name\"\n",
    "save_path = \"model\"\n",
    "mlflow_manager = MLFlowManager(\n",
    "    env_config[\"machine_learning_workspace\"],\n",
    "    env_config[\"subscription_id\"],\n",
    "    env_config[\"resource_group\"],\n",
    "    experiment_name,\n",
    "    save_path,\n",
    ")\n",
    "\n",
    "mlflow_manager._initialise_ml_flow()"
   ]
  },
  {
   "cell_type": "code",
   "execution_count": 13,
   "metadata": {},
   "outputs": [
    {
     "name": "stdout",
     "output_type": "stream",
     "text": [
      "pulling dataset california\n"
     ]
    },
    {
     "name": "stderr",
     "output_type": "stream",
     "text": [
      "Registered model 'template_model' already exists. Creating a new version of this model...\n",
      "2023/05/10 15:24:34 INFO mlflow.tracking._model_registry.client: Waiting up to 300 seconds for model version to finish creation.                     Model name: template_model, version 5\n",
      "Created version '5' of model 'template_model'.\n"
     ]
    }
   ],
   "source": [
    "from sklearn import datasets\n",
    "from sklearn.linear_model import LinearRegression\n",
    "from datascience_core.data_retrieval import ProjectDatasetManager\n",
    "\n",
    "dataset_manager = ProjectDatasetManager(\"template_dataset\")\n",
    "train_df = dataset_manager.load_datasets(get_these_datasets=[\"california\"])[\n",
    "    \"california\"\n",
    "]\n",
    "\n",
    "train_X = train_df.drop(\"target\", axis=1)\n",
    "train_y = train_df[\"target\"]\n",
    "\n",
    "model = LinearRegression()\n",
    "model.fit(train_X, train_y)\n",
    "\n",
    "# Register the model to the model registry\n",
    "model_name = \"template_model\"\n",
    "artifact_path = \"model\"\n",
    "run_name = \"template_model_run\"\n",
    "run_description = \"For ensuring the template repository runs smoothly\"\n",
    "\n",
    "with mlflow.start_run(run_name=run_name, description=run_description) as run:\n",
    "    # Register the model to mlflow\n",
    "    mlflow.sklearn.log_model(model, artifact_path, registered_model_name=model_name)"
   ]
  },
  {
   "cell_type": "code",
   "execution_count": 14,
   "metadata": {},
   "outputs": [
    {
     "ename": "MlflowException",
     "evalue": "No versions of model with name 'template_model' and stage '' found",
     "output_type": "error",
     "traceback": [
      "\u001b[1;31m---------------------------------------------------------------------------\u001b[0m",
      "\u001b[1;31mMlflowException\u001b[0m                           Traceback (most recent call last)",
      "Cell \u001b[1;32mIn[14], line 2\u001b[0m\n\u001b[0;32m      1\u001b[0m \u001b[39m# Use mlflow to load the registered model\u001b[39;00m\n\u001b[1;32m----> 2\u001b[0m loaded_model \u001b[39m=\u001b[39m mlflow\u001b[39m.\u001b[39;49msklearn\u001b[39m.\u001b[39;49mload_model(model_uri\u001b[39m=\u001b[39;49m\u001b[39mf\u001b[39;49m\u001b[39m\"\u001b[39;49m\u001b[39mmodels:/\u001b[39;49m\u001b[39m{\u001b[39;49;00mmodel_name\u001b[39m}\u001b[39;49;00m\u001b[39m/\u001b[39;49m\u001b[39m\"\u001b[39;49m)\n",
      "File \u001b[1;32mc:\\Users\\William.White\\Miniconda3\\envs\\jupyter\\lib\\site-packages\\mlflow\\sklearn\\__init__.py:589\u001b[0m, in \u001b[0;36mload_model\u001b[1;34m(model_uri, dst_path)\u001b[0m\n\u001b[0;32m    557\u001b[0m \u001b[39mdef\u001b[39;00m \u001b[39mload_model\u001b[39m(model_uri, dst_path\u001b[39m=\u001b[39m\u001b[39mNone\u001b[39;00m):\n\u001b[0;32m    558\u001b[0m \u001b[39m    \u001b[39m\u001b[39m\"\"\"\u001b[39;00m\n\u001b[0;32m    559\u001b[0m \u001b[39m    Load a scikit-learn model from a local file or a run.\u001b[39;00m\n\u001b[0;32m    560\u001b[0m \n\u001b[1;32m   (...)\u001b[0m\n\u001b[0;32m    587\u001b[0m \u001b[39m        predictions = sk_model.predict(pandas_df)\u001b[39;00m\n\u001b[0;32m    588\u001b[0m \u001b[39m    \"\"\"\u001b[39;00m\n\u001b[1;32m--> 589\u001b[0m     local_model_path \u001b[39m=\u001b[39m _download_artifact_from_uri(artifact_uri\u001b[39m=\u001b[39;49mmodel_uri, output_path\u001b[39m=\u001b[39;49mdst_path)\n\u001b[0;32m    590\u001b[0m     flavor_conf \u001b[39m=\u001b[39m _get_flavor_configuration(model_path\u001b[39m=\u001b[39mlocal_model_path, flavor_name\u001b[39m=\u001b[39mFLAVOR_NAME)\n\u001b[0;32m    591\u001b[0m     _add_code_from_conf_to_system_path(local_model_path, flavor_conf)\n",
      "File \u001b[1;32mc:\\Users\\William.White\\Miniconda3\\envs\\jupyter\\lib\\site-packages\\mlflow\\tracking\\artifact_utils.py:100\u001b[0m, in \u001b[0;36m_download_artifact_from_uri\u001b[1;34m(artifact_uri, output_path)\u001b[0m\n\u001b[0;32m     94\u001b[0m \u001b[39m\u001b[39m\u001b[39m\"\"\"\u001b[39;00m\n\u001b[0;32m     95\u001b[0m \u001b[39m:param artifact_uri: The *absolute* URI of the artifact to download.\u001b[39;00m\n\u001b[0;32m     96\u001b[0m \u001b[39m:param output_path: The local filesystem path to which to download the artifact. If unspecified,\u001b[39;00m\n\u001b[0;32m     97\u001b[0m \u001b[39m                    a local output path will be created.\u001b[39;00m\n\u001b[0;32m     98\u001b[0m \u001b[39m\"\"\"\u001b[39;00m\n\u001b[0;32m     99\u001b[0m root_uri, artifact_path \u001b[39m=\u001b[39m _get_root_uri_and_artifact_path(artifact_uri)\n\u001b[1;32m--> 100\u001b[0m \u001b[39mreturn\u001b[39;00m get_artifact_repository(artifact_uri\u001b[39m=\u001b[39;49mroot_uri)\u001b[39m.\u001b[39mdownload_artifacts(\n\u001b[0;32m    101\u001b[0m     artifact_path\u001b[39m=\u001b[39martifact_path, dst_path\u001b[39m=\u001b[39moutput_path\n\u001b[0;32m    102\u001b[0m )\n",
      "File \u001b[1;32mc:\\Users\\William.White\\Miniconda3\\envs\\jupyter\\lib\\site-packages\\mlflow\\store\\artifact\\artifact_repository_registry.py:106\u001b[0m, in \u001b[0;36mget_artifact_repository\u001b[1;34m(artifact_uri)\u001b[0m\n\u001b[0;32m     96\u001b[0m \u001b[39mdef\u001b[39;00m \u001b[39mget_artifact_repository\u001b[39m(artifact_uri):\n\u001b[0;32m     97\u001b[0m \u001b[39m    \u001b[39m\u001b[39m\"\"\"Get an artifact repository from the registry based on the scheme of artifact_uri\u001b[39;00m\n\u001b[0;32m     98\u001b[0m \n\u001b[0;32m     99\u001b[0m \u001b[39m    :param artifact_uri: The artifact store URI. This URI is used to select which artifact\u001b[39;00m\n\u001b[1;32m   (...)\u001b[0m\n\u001b[0;32m    104\u001b[0m \u001b[39m             requirements.\u001b[39;00m\n\u001b[0;32m    105\u001b[0m \u001b[39m    \"\"\"\u001b[39;00m\n\u001b[1;32m--> 106\u001b[0m     \u001b[39mreturn\u001b[39;00m _artifact_repository_registry\u001b[39m.\u001b[39;49mget_artifact_repository(artifact_uri)\n",
      "File \u001b[1;32mc:\\Users\\William.White\\Miniconda3\\envs\\jupyter\\lib\\site-packages\\mlflow\\store\\artifact\\artifact_repository_registry.py:72\u001b[0m, in \u001b[0;36mArtifactRepositoryRegistry.get_artifact_repository\u001b[1;34m(self, artifact_uri)\u001b[0m\n\u001b[0;32m     65\u001b[0m \u001b[39mif\u001b[39;00m repository \u001b[39mis\u001b[39;00m \u001b[39mNone\u001b[39;00m:\n\u001b[0;32m     66\u001b[0m     \u001b[39mraise\u001b[39;00m MlflowException(\n\u001b[0;32m     67\u001b[0m         \u001b[39m\"\u001b[39m\u001b[39mCould not find a registered artifact repository for: \u001b[39m\u001b[39m{}\u001b[39;00m\u001b[39m. \u001b[39m\u001b[39m\"\u001b[39m\n\u001b[0;32m     68\u001b[0m         \u001b[39m\"\u001b[39m\u001b[39mCurrently registered schemes are: \u001b[39m\u001b[39m{}\u001b[39;00m\u001b[39m\"\u001b[39m\u001b[39m.\u001b[39mformat(\n\u001b[0;32m     69\u001b[0m             artifact_uri, \u001b[39mlist\u001b[39m(\u001b[39mself\u001b[39m\u001b[39m.\u001b[39m_registry\u001b[39m.\u001b[39mkeys())\n\u001b[0;32m     70\u001b[0m         )\n\u001b[0;32m     71\u001b[0m     )\n\u001b[1;32m---> 72\u001b[0m \u001b[39mreturn\u001b[39;00m repository(artifact_uri)\n",
      "File \u001b[1;32mc:\\Users\\William.White\\Miniconda3\\envs\\jupyter\\lib\\site-packages\\mlflow\\store\\artifact\\models_artifact_repo.py:35\u001b[0m, in \u001b[0;36mModelsArtifactRepository.__init__\u001b[1;34m(self, artifact_uri)\u001b[0m\n\u001b[0;32m     33\u001b[0m     \u001b[39mself\u001b[39m\u001b[39m.\u001b[39mrepo \u001b[39m=\u001b[39m DatabricksModelsArtifactRepository(artifact_uri)\n\u001b[0;32m     34\u001b[0m \u001b[39melse\u001b[39;00m:\n\u001b[1;32m---> 35\u001b[0m     uri \u001b[39m=\u001b[39m ModelsArtifactRepository\u001b[39m.\u001b[39;49mget_underlying_uri(artifact_uri)\n\u001b[0;32m     36\u001b[0m     \u001b[39mself\u001b[39m\u001b[39m.\u001b[39mrepo \u001b[39m=\u001b[39m get_artifact_repository(uri)\n",
      "File \u001b[1;32mc:\\Users\\William.White\\Miniconda3\\envs\\jupyter\\lib\\site-packages\\mlflow\\store\\artifact\\models_artifact_repo.py:69\u001b[0m, in \u001b[0;36mModelsArtifactRepository.get_underlying_uri\u001b[1;34m(uri)\u001b[0m\n\u001b[0;32m     65\u001b[0m databricks_profile_uri \u001b[39m=\u001b[39m (\n\u001b[0;32m     66\u001b[0m     get_databricks_profile_uri_from_artifact_uri(uri) \u001b[39mor\u001b[39;00m mlflow\u001b[39m.\u001b[39mget_registry_uri()\n\u001b[0;32m     67\u001b[0m )\n\u001b[0;32m     68\u001b[0m client \u001b[39m=\u001b[39m MlflowClient(registry_uri\u001b[39m=\u001b[39mdatabricks_profile_uri)\n\u001b[1;32m---> 69\u001b[0m (name, version) \u001b[39m=\u001b[39m get_model_name_and_version(client, uri)\n\u001b[0;32m     70\u001b[0m download_uri \u001b[39m=\u001b[39m client\u001b[39m.\u001b[39mget_model_version_download_uri(name, version)\n\u001b[0;32m     71\u001b[0m \u001b[39mreturn\u001b[39;00m add_databricks_profile_info_to_artifact_uri(download_uri, databricks_profile_uri)\n",
      "File \u001b[1;32mc:\\Users\\William.White\\Miniconda3\\envs\\jupyter\\lib\\site-packages\\mlflow\\store\\artifact\\utils\\models.py:70\u001b[0m, in \u001b[0;36mget_model_name_and_version\u001b[1;34m(client, models_uri)\u001b[0m\n\u001b[0;32m     68\u001b[0m \u001b[39mif\u001b[39;00m model_version \u001b[39mis\u001b[39;00m \u001b[39mnot\u001b[39;00m \u001b[39mNone\u001b[39;00m:\n\u001b[0;32m     69\u001b[0m     \u001b[39mreturn\u001b[39;00m model_name, \u001b[39mstr\u001b[39m(model_version)\n\u001b[1;32m---> 70\u001b[0m \u001b[39mreturn\u001b[39;00m model_name, \u001b[39mstr\u001b[39m(_get_latest_model_version(client, model_name, model_stage))\n",
      "File \u001b[1;32mc:\\Users\\William.White\\Miniconda3\\envs\\jupyter\\lib\\site-packages\\mlflow\\store\\artifact\\utils\\models.py:31\u001b[0m, in \u001b[0;36m_get_latest_model_version\u001b[1;34m(client, name, stage)\u001b[0m\n\u001b[0;32m     29\u001b[0m \u001b[39mif\u001b[39;00m \u001b[39mlen\u001b[39m(latest) \u001b[39m==\u001b[39m \u001b[39m0\u001b[39m:\n\u001b[0;32m     30\u001b[0m     stage_str \u001b[39m=\u001b[39m \u001b[39m\"\u001b[39m\u001b[39m\"\u001b[39m \u001b[39mif\u001b[39;00m stage \u001b[39mis\u001b[39;00m \u001b[39mNone\u001b[39;00m \u001b[39melse\u001b[39;00m \u001b[39mf\u001b[39m\u001b[39m\"\u001b[39m\u001b[39m and stage \u001b[39m\u001b[39m'\u001b[39m\u001b[39m{\u001b[39;00mstage\u001b[39m}\u001b[39;00m\u001b[39m'\u001b[39m\u001b[39m\"\u001b[39m\n\u001b[1;32m---> 31\u001b[0m     \u001b[39mraise\u001b[39;00m MlflowException(\u001b[39mf\u001b[39m\u001b[39m\"\u001b[39m\u001b[39mNo versions of model with name \u001b[39m\u001b[39m'\u001b[39m\u001b[39m{\u001b[39;00mname\u001b[39m}\u001b[39;00m\u001b[39m'\u001b[39m\u001b[39m{\u001b[39;00mstage_str\u001b[39m}\u001b[39;00m\u001b[39m found\u001b[39m\u001b[39m\"\u001b[39m)\n\u001b[0;32m     32\u001b[0m \u001b[39mreturn\u001b[39;00m \u001b[39mmax\u001b[39m(\u001b[39mint\u001b[39m(x\u001b[39m.\u001b[39mversion) \u001b[39mfor\u001b[39;00m x \u001b[39min\u001b[39;00m latest)\n",
      "\u001b[1;31mMlflowException\u001b[0m: No versions of model with name 'template_model' and stage '' found"
     ]
    }
   ],
   "source": [
    "# Use mlflow to load the registered model\n",
    "loaded_model = mlflow.sklearn.load_model(model_uri=f\"models:/{model_name}/\")"
   ]
  },
  {
   "cell_type": "code",
   "execution_count": null,
   "metadata": {},
   "outputs": [],
   "source": []
  }
 ],
 "metadata": {
  "kernelspec": {
   "display_name": "jupyter",
   "language": "python",
   "name": "python3"
  },
  "language_info": {
   "codemirror_mode": {
    "name": "ipython",
    "version": 3
   },
   "file_extension": ".py",
   "mimetype": "text/x-python",
   "name": "python",
   "nbconvert_exporter": "python",
   "pygments_lexer": "ipython3",
   "version": "3.9.16"
  },
  "orig_nbformat": 4
 },
 "nbformat": 4,
 "nbformat_minor": 2
}
