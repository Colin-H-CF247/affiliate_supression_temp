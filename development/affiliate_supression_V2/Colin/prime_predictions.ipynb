{
 "cells": [
  {
   "cell_type": "code",
   "execution_count": 10,
   "metadata": {
    "collapsed": true,
    "ExecuteTime": {
     "end_time": "2023-05-23T09:46:15.533863400Z",
     "start_time": "2023-05-23T09:46:15.517905100Z"
    }
   },
   "outputs": [],
   "source": [
    "import pathlib\n",
    "from datascience_core.modelling.azure_model_manager import AzureModelManager"
   ]
  },
  {
   "cell_type": "code",
   "execution_count": 11,
   "outputs": [],
   "source": [
    "model_manager = AzureModelManager(\n",
    "    ml_studio_name=\"mlw-ml-dev\",\n",
    "    subscription_id=\"6cbe45a0-6565-4c4a-b1a9-0929f276bbcd\",\n",
    "    resource_group=\"rg-data-science-dev\",\n",
    ")"
   ],
   "metadata": {
    "collapsed": false,
    "ExecuteTime": {
     "end_time": "2023-05-23T09:46:15.746852400Z",
     "start_time": "2023-05-23T09:46:15.729869900Z"
    }
   }
  },
  {
   "cell_type": "code",
   "execution_count": 12,
   "outputs": [],
   "source": [
    "model_manager.initialise_workspace()"
   ],
   "metadata": {
    "collapsed": false,
    "ExecuteTime": {
     "end_time": "2023-05-23T09:46:19.052846700Z",
     "start_time": "2023-05-23T09:46:15.867284600Z"
    }
   }
  },
  {
   "cell_type": "code",
   "execution_count": 13,
   "outputs": [],
   "source": [
    "model_manager.get_model_files_from_registered_model(model_name=\"PP5_v1\")"
   ],
   "metadata": {
    "collapsed": false,
    "ExecuteTime": {
     "end_time": "2023-05-23T09:46:27.542866Z",
     "start_time": "2023-05-23T09:46:19.052846700Z"
    }
   }
  },
  {
   "cell_type": "code",
   "execution_count": 14,
   "outputs": [
    {
     "data": {
      "text/plain": "<catboost.core.CatBoostClassifier at 0x261f6e29ba0>"
     },
     "execution_count": 14,
     "metadata": {},
     "output_type": "execute_result"
    }
   ],
   "source": [
    "from catboost import CatBoostClassifier\n",
    "from xgboost import XGBClassifier\n",
    "\n",
    "# load model.pkl from the model folder into an XGBClassifier object\n",
    "model = CatBoostClassifier()\n",
    "model.load_model(str(pathlib.Path.cwd() / \"pp5_v1.cb\"))"
   ],
   "metadata": {
    "collapsed": false,
    "ExecuteTime": {
     "end_time": "2023-05-23T09:46:27.600484600Z",
     "start_time": "2023-05-23T09:46:27.544860300Z"
    }
   }
  },
  {
   "cell_type": "code",
   "execution_count": 16,
   "outputs": [
    {
     "name": "stdout",
     "output_type": "stream",
     "text": [
      "pulling dataset 20230516_DS_Export_6months_with_retro\n"
     ]
    },
    {
     "ename": "AttributeError",
     "evalue": "'StorageStreamDownloader' object has no attribute 'read'",
     "output_type": "error",
     "traceback": [
      "\u001B[1;31m---------------------------------------------------------------------------\u001B[0m",
      "\u001B[1;31mAttributeError\u001B[0m                            Traceback (most recent call last)",
      "Cell \u001B[1;32mIn[16], line 4\u001B[0m\n\u001B[0;32m      1\u001B[0m \u001B[38;5;28;01mfrom\u001B[39;00m \u001B[38;5;21;01mdatascience_core\u001B[39;00m\u001B[38;5;21;01m.\u001B[39;00m\u001B[38;5;21;01mdata_retrieval\u001B[39;00m \u001B[38;5;28;01mimport\u001B[39;00m ProjectDatasetManager\n\u001B[0;32m      3\u001B[0m dataset_manager \u001B[38;5;241m=\u001B[39m ProjectDatasetManager(\u001B[38;5;124m\"\u001B[39m\u001B[38;5;124maffiliate_suppression\u001B[39m\u001B[38;5;124m\"\u001B[39m)\n\u001B[1;32m----> 4\u001B[0m datasets \u001B[38;5;241m=\u001B[39m \u001B[43mdataset_manager\u001B[49m\u001B[38;5;241;43m.\u001B[39;49m\u001B[43mload_datasets\u001B[49m\u001B[43m(\u001B[49m\u001B[38;5;124;43m\"\u001B[39;49m\u001B[38;5;124;43m20230516_DS_Export_6months_with_retro\u001B[39;49m\u001B[38;5;124;43m\"\u001B[39;49m\u001B[43m)\u001B[49m\n\u001B[0;32m      5\u001B[0m affiliate_leads \u001B[38;5;241m=\u001B[39m datasets[\u001B[38;5;124m\"\u001B[39m\u001B[38;5;124m20230516_DS_Export_6months_with_retro\u001B[39m\u001B[38;5;124m\"\u001B[39m]\n",
      "File \u001B[1;32m~\\AppData\\Local\\anaconda3\\lib\\site-packages\\datascience_core\\data_retrieval\\_project_dataset_manager.py:485\u001B[0m, in \u001B[0;36mProjectDatasetManager.load_datasets\u001B[1;34m(self, get_these_datasets, versions, skip_datasets)\u001B[0m\n\u001B[0;32m    478\u001B[0m \u001B[38;5;28;01mif\u001B[39;00m get_these_datasets:\n\u001B[0;32m    479\u001B[0m     uri_blob_locations \u001B[38;5;241m=\u001B[39m [\n\u001B[0;32m    480\u001B[0m         uri_blob_location\n\u001B[0;32m    481\u001B[0m         \u001B[38;5;28;01mfor\u001B[39;00m uri_blob_location \u001B[38;5;129;01min\u001B[39;00m uri_blob_locations\n\u001B[0;32m    482\u001B[0m         \u001B[38;5;28;01mif\u001B[39;00m uri_blob_location[\u001B[38;5;124m\"\u001B[39m\u001B[38;5;124mname\u001B[39m\u001B[38;5;124m\"\u001B[39m] \u001B[38;5;129;01min\u001B[39;00m get_these_datasets\n\u001B[0;32m    483\u001B[0m     ]\n\u001B[1;32m--> 485\u001B[0m \u001B[38;5;28;01mreturn\u001B[39;00m \u001B[38;5;28;43mself\u001B[39;49m\u001B[38;5;241;43m.\u001B[39;49m\u001B[43mproject_asset_loader\u001B[49m\u001B[38;5;241;43m.\u001B[39;49m\u001B[43mpull_project_datasets\u001B[49m\u001B[43m(\u001B[49m\n\u001B[0;32m    486\u001B[0m \u001B[43m    \u001B[49m\u001B[43muri_blob_locations\u001B[49m\u001B[43m,\u001B[49m\u001B[43m \u001B[49m\u001B[43mskip_datasets\u001B[49m\u001B[38;5;241;43m=\u001B[39;49m\u001B[43mskip_datasets\u001B[49m\n\u001B[0;32m    487\u001B[0m \u001B[43m\u001B[49m\u001B[43m)\u001B[49m\n",
      "File \u001B[1;32m~\\AppData\\Local\\anaconda3\\lib\\site-packages\\datascience_core\\data_retrieval\\_project_dataset_manager.py:121\u001B[0m, in \u001B[0;36mDatalakeProjectAssetsHelper.pull_project_datasets\u001B[1;34m(self, uri_blob_locations, skip_datasets)\u001B[0m\n\u001B[0;32m    119\u001B[0m \u001B[38;5;28;01mif\u001B[39;00m data_type \u001B[38;5;241m==\u001B[39m \u001B[38;5;124m\"\u001B[39m\u001B[38;5;124mcsv\u001B[39m\u001B[38;5;124m\"\u001B[39m:\n\u001B[0;32m    120\u001B[0m     csv_loader \u001B[38;5;241m=\u001B[39m DataLakeCSVLoader(\u001B[38;5;28mself\u001B[39m\u001B[38;5;241m.\u001B[39mcredential)\n\u001B[1;32m--> 121\u001B[0m     datasets[name] \u001B[38;5;241m=\u001B[39m \u001B[43mcsv_loader\u001B[49m\u001B[38;5;241;43m.\u001B[39;49m\u001B[43mload\u001B[49m\u001B[43m(\u001B[49m\u001B[43mpath\u001B[49m\u001B[43m)\u001B[49m\n\u001B[0;32m    122\u001B[0m \u001B[38;5;28;01melif\u001B[39;00m data_type \u001B[38;5;241m==\u001B[39m \u001B[38;5;124m\"\u001B[39m\u001B[38;5;124mpkl\u001B[39m\u001B[38;5;124m\"\u001B[39m:\n\u001B[0;32m    123\u001B[0m     pkl_loader \u001B[38;5;241m=\u001B[39m DataLakePickleLoader(\u001B[38;5;28mself\u001B[39m\u001B[38;5;241m.\u001B[39mcredential)\n",
      "File \u001B[1;32m~\\AppData\\Local\\anaconda3\\lib\\site-packages\\datascience_core\\data_retrieval\\_load_data.py:317\u001B[0m, in \u001B[0;36mDataLakeCSVLoader.load\u001B[1;34m(self, blob, **kwargs)\u001B[0m\n\u001B[0;32m    315\u001B[0m \u001B[38;5;28;01melse\u001B[39;00m:\n\u001B[0;32m    316\u001B[0m     download \u001B[38;5;241m=\u001B[39m file_client\u001B[38;5;241m.\u001B[39mdownload_file()\n\u001B[1;32m--> 317\u001B[0m     buffer \u001B[38;5;241m=\u001B[39m BytesIO(\u001B[43mdownload\u001B[49m\u001B[38;5;241;43m.\u001B[39;49m\u001B[43mread\u001B[49m())\n\u001B[0;32m    318\u001B[0m     buffer\u001B[38;5;241m.\u001B[39mseek(\u001B[38;5;241m0\u001B[39m)\n\u001B[0;32m    319\u001B[0m     df \u001B[38;5;241m=\u001B[39m pd\u001B[38;5;241m.\u001B[39mread_csv(buffer, \u001B[38;5;241m*\u001B[39m\u001B[38;5;241m*\u001B[39mkwargs)\n",
      "\u001B[1;31mAttributeError\u001B[0m: 'StorageStreamDownloader' object has no attribute 'read'"
     ]
    }
   ],
   "source": [
    "from datascience_core.data_retrieval import ProjectDatasetManager\n",
    "\n",
    "#dataset_manager = ProjectDatasetManager(\"affiliate_suppression\")\n",
    "#datasets = dataset_manager.load_datasets(\"20230516_DS_Export_6months_with_retro\")\n",
    "#affiliate_leads = datasets[\"20230516_DS_Export_6months_with_retro\"]"
   ],
   "metadata": {
    "collapsed": false,
    "ExecuteTime": {
     "end_time": "2023-05-23T09:47:24.252634200Z",
     "start_time": "2023-05-23T09:46:52.069316800Z"
    }
   }
  },
  {
   "cell_type": "code",
   "execution_count": 17,
   "outputs": [
    {
     "name": "stderr",
     "output_type": "stream",
     "text": [
      "C:\\Users\\Colin.Hanley\\AppData\\Local\\Temp\\ipykernel_18192\\1678142573.py:4: DtypeWarning: Columns (40,53,66,98,100,108,134,140,158,161,162,168,169,170,201,203,204,210,212,214,215,247,253,256,262,299,349,358,400,454,467,469,473,511,535,545,549,587,594,595,645,651,655,673,677,687,699,700,704,755,770,792,795,797,819,870,893,898,899,900,904,909,914,921,922,926,933,938,944,946,947,950,954,958,968,976,985,990,992,998,1009,1019,1028,1042,1068,1069,1095,1100,1113,1115,1131,1132,1137,1142,1155,1157,1166,1171,1173,1183,1184,1186,1187,1190,1194,1207,1216,1221,1223,1252,1258,1260,1261,1268,1275,1277,1279,1281,1283,1286,1290,1291,1292,1293,1294,1297,1326,1330,1334,1340,1341,1342,1343,1344,1348,1353,1383,1384,1392,1409,1412,1414,1417,1423,1426,1428,1433,1435,1443,1447,1448,1455,1460,1461,1466,1470,1476,1490,1491,1492,1494,1501,1504,1509,1517,1518,1519,1523,1533,1539,1546,1573,1582,1591,1607,1611,1615,1623,1631,1635,1648,1650,1661,1664,1686,1696,1702,1704,1705,1708,1711,1714,1740,1741,1748,1762,1764,1766,1774,1783,1802,1819,1822,1828,1829,1832,1848,1851,1854,1860,1861,1867,1879,1889,1891,1900,1904,1910,1911,1918,1919,1920,1922,1923,1928,1930,1933,1938,1939) have mixed types. Specify dtype option on import or set low_memory=False.\n",
      "  affiliate_leads2 = pd.read_csv(\n"
     ]
    }
   ],
   "source": [
    "import pandas as pd\n",
    "\n",
    "# read in 4016852c-d13f-4292-9fa8-6b86d7f0b9b8 from the dataset folder into a pandas dataframe\n",
    "affiliate_leads2 = pd.read_csv(\n",
    "    str(pathlib.Path.cwd() / \"4016852c-d13f-4292-9fa8-6b86d7f0b9b8\"))"
   ],
   "metadata": {
    "collapsed": false,
    "ExecuteTime": {
     "end_time": "2023-05-23T09:51:14.877073300Z",
     "start_time": "2023-05-23T09:47:41.976498400Z"
    }
   }
  },
  {
   "cell_type": "markdown",
   "source": [],
   "metadata": {
    "collapsed": false
   }
  },
  {
   "cell_type": "code",
   "execution_count": 22,
   "outputs": [],
   "source": [
    "from datascience_core.data_transformation import ColumnDotRenamer, CatTypeConverter\n",
    "from datascience_core.data_transformation import ColumnFiller\n",
    "from datascience_core.data_transformation import ValueReplacer\n",
    "from datascience_core.data_transformation import DataFramePipe\n",
    "from typing import List\n",
    "import os\n",
    "\n",
    "\n",
    "class PPModel:\n",
    "    def __init__(self, fmt=\"flat\"):\n",
    "        self.fmt = fmt\n",
    "        self.model = CatBoostClassifier()\n",
    "\n",
    "        self.model.load_model(str(pathlib.Path.cwd() / \"pp5_v1.cb\"))\n",
    "        self.make_categorical = list(\n",
    "            pd.DataFrame(data=self.model.get_cat_feature_indices(), columns=[\"indices\"])\n",
    "            .merge(\n",
    "                pd.DataFrame(\n",
    "                    data=self.model.feature_names_, columns=[\"features\"]\n",
    "                ).reset_index(),\n",
    "                how=\"left\",\n",
    "                left_on=\"indices\",\n",
    "                right_on=\"index\",\n",
    "            )[\"features\"]\n",
    "            .values\n",
    "        )\n",
    "\n",
    "        self.dfTop100Features = pd.DataFrame.from_dict(\n",
    "            data={\n",
    "                \"features\": self.model.feature_names_,\n",
    "                \"values\": self.model.feature_importances_,\n",
    "            }\n",
    "        ).sort_values(by=\"values\", ascending=False)[0:100]\n",
    "\n",
    "\n",
    "        step1 = ColumnDotRenamer(fmt=fmt, from_name=\" \", to_name=\".\")\n",
    "        step3 = ColumnFiller(\n",
    "            self.model.feature_names_,\n",
    "            self.dfTop100Features[\"features\"].values,\n",
    "            fmt=fmt,\n",
    "        )\n",
    "\n",
    "        step4 = ValueReplacer()\n",
    "        step5 = CatTypeConverter(self.make_categorical)\n",
    "\n",
    "        self.pipe = DataFramePipe([step1, step3, step4, step5])\n",
    "\n",
    "    def preprocess(self, df_in):\n",
    "        return self.pipe.run(df_in)\n",
    "\n",
    "    def make_prediction(self, df_in):\n",
    "        return list(self.model.predict_proba(df_in[self.model.feature_names_])[:, 1])\n",
    "\n",
    "    def postprocess(self, confidence: float, amount_to_finance: float) -> List[str]:\n",
    "        df_out = pd.DataFrame.from_dict(\n",
    "            {\"Confidence\": confidence, \"AMF\": amount_to_finance}\n",
    "        )\n",
    "        df_out[\"Prediction\"] = \"subprime\"\n",
    "        df_out.loc[df_out[\"Confidence\"] > 0.65, \"Prediction\"] = \"prime\"\n",
    "        return list(df_out[\"Prediction\"].values)"
   ],
   "metadata": {
    "collapsed": false,
    "ExecuteTime": {
     "end_time": "2023-05-23T09:52:29.869258700Z",
     "start_time": "2023-05-23T09:52:29.848284300Z"
    }
   }
  },
  {
   "cell_type": "code",
   "execution_count": 23,
   "outputs": [],
   "source": [
    "pp = PPModel()"
   ],
   "metadata": {
    "collapsed": false,
    "ExecuteTime": {
     "end_time": "2023-05-23T09:52:32.376608300Z",
     "start_time": "2023-05-23T09:52:32.322575100Z"
    }
   }
  },
  {
   "cell_type": "code",
   "execution_count": null,
   "outputs": [],
   "source": [
    "preprocess1 = pp.preprocess(affiliate_leads2[0:10000])"
   ],
   "metadata": {
    "collapsed": false
   }
  },
  {
   "cell_type": "code",
   "execution_count": null,
   "outputs": [],
   "source": [
    "Results1 = pp.make_prediction(preprocess1)"
   ],
   "metadata": {
    "collapsed": false
   }
  },
  {
   "cell_type": "code",
   "execution_count": null,
   "outputs": [],
   "source": [
    "affiliate_leads2[0:100000]"
   ],
   "metadata": {
    "collapsed": false
   }
  },
  {
   "cell_type": "code",
   "execution_count": 62,
   "outputs": [],
   "source": [
    "import gc\n",
    "import numpy as np\n",
    "\n",
    "def predict_dataset_in_chunks(data, chunk_size=10000):\n",
    "    total_rows = len(data)\n",
    "    num_chunks = int(np.ceil(total_rows / chunk_size))\n",
    "\n",
    "    model = PPModel()\n",
    "    predictions_list = []\n",
    "\n",
    "    for i in range(num_chunks):\n",
    "        start_index = i * chunk_size\n",
    "        end_index = min((i + 1) * chunk_size, total_rows)\n",
    "        chunk_data = data[start_index:end_index]\n",
    "        print(f\"Processing chunk {i+1}/{num_chunks}...\")\n",
    "\n",
    "        preprocessed_data = model.preprocess(chunk_data)\n",
    "        predictions = model.make_prediction(preprocessed_data)\n",
    "        predictions_list.append(predictions)\n",
    "\n",
    "        # Free up memory by deleting unnecessary variables\n",
    "        #del preprocessed_data, predictions\n",
    "        #gc.collect()\n",
    "\n",
    "    return np.array(predictions_list).flatten()\n",
    "\n"
   ],
   "metadata": {
    "collapsed": false,
    "ExecuteTime": {
     "end_time": "2023-05-23T13:51:44.536358400Z",
     "start_time": "2023-05-23T13:51:44.492770400Z"
    }
   }
  },
  {
   "cell_type": "code",
   "execution_count": 64,
   "outputs": [
    {
     "name": "stdout",
     "output_type": "stream",
     "text": [
      "Processing chunk 1/59...\n",
      "Processing chunk 2/59...\n",
      "Processing chunk 3/59...\n",
      "Processing chunk 4/59...\n",
      "Processing chunk 5/59...\n",
      "Processing chunk 6/59...\n",
      "Processing chunk 7/59...\n",
      "Processing chunk 8/59...\n",
      "Processing chunk 9/59...\n",
      "Processing chunk 10/59...\n",
      "Processing chunk 11/59...\n",
      "Processing chunk 12/59...\n",
      "Processing chunk 13/59...\n",
      "Processing chunk 14/59...\n",
      "Processing chunk 15/59...\n",
      "Processing chunk 16/59...\n",
      "Processing chunk 17/59...\n",
      "Processing chunk 18/59...\n",
      "Processing chunk 19/59...\n",
      "Processing chunk 20/59...\n",
      "Processing chunk 21/59...\n",
      "Processing chunk 22/59...\n",
      "Processing chunk 23/59...\n",
      "Processing chunk 24/59...\n",
      "Processing chunk 25/59...\n",
      "Processing chunk 26/59...\n",
      "Processing chunk 27/59...\n",
      "Processing chunk 28/59...\n",
      "Processing chunk 29/59...\n",
      "Processing chunk 30/59...\n",
      "Processing chunk 31/59...\n",
      "Processing chunk 32/59...\n",
      "Processing chunk 33/59...\n",
      "Processing chunk 34/59...\n",
      "Processing chunk 35/59...\n",
      "Processing chunk 36/59...\n",
      "Processing chunk 37/59...\n",
      "Processing chunk 38/59...\n",
      "Processing chunk 39/59...\n",
      "Processing chunk 40/59...\n",
      "Processing chunk 41/59...\n",
      "Processing chunk 42/59...\n",
      "Processing chunk 43/59...\n",
      "Processing chunk 44/59...\n",
      "Processing chunk 45/59...\n",
      "Processing chunk 46/59...\n",
      "Processing chunk 47/59...\n",
      "Processing chunk 48/59...\n",
      "Processing chunk 49/59...\n",
      "Processing chunk 50/59...\n",
      "Processing chunk 51/59...\n",
      "Processing chunk 52/59...\n",
      "Processing chunk 53/59...\n",
      "Processing chunk 54/59...\n",
      "Processing chunk 55/59...\n",
      "Processing chunk 56/59...\n",
      "Processing chunk 57/59...\n",
      "Processing chunk 58/59...\n",
      "Processing chunk 59/59...\n"
     ]
    },
    {
     "name": "stderr",
     "output_type": "stream",
     "text": [
      "C:\\Users\\Colin.Hanley\\AppData\\Local\\Temp\\ipykernel_18192\\1527715064.py:25: VisibleDeprecationWarning: Creating an ndarray from ragged nested sequences (which is a list-or-tuple of lists-or-tuples-or ndarrays with different lengths or shapes) is deprecated. If you meant to do this, you must specify 'dtype=object' when creating the ndarray.\n",
      "  return np.array(predictions_list).flatten()\n"
     ]
    }
   ],
   "source": [
    "predictions = predict_dataset_in_chunks(affiliate_leads2,10000)"
   ],
   "metadata": {
    "collapsed": false,
    "ExecuteTime": {
     "end_time": "2023-05-23T15:04:46.648996200Z",
     "start_time": "2023-05-23T13:52:02.385777800Z"
    }
   }
  },
  {
   "cell_type": "code",
   "execution_count": 65,
   "outputs": [],
   "source": [
    "#save predictions to a new dataframe and save it to csv\n",
    "df = pd.DataFrame(predictions)\n",
    "df.to_csv(\"predictions.csv\")\n"
   ],
   "metadata": {
    "collapsed": false,
    "ExecuteTime": {
     "end_time": "2023-05-23T15:08:10.117432500Z",
     "start_time": "2023-05-23T15:08:08.782084400Z"
    }
   }
  },
  {
   "cell_type": "code",
   "execution_count": 70,
   "outputs": [
    {
     "ename": "AttributeError",
     "evalue": "'numpy.ndarray' object has no attribute 'concatenate'",
     "output_type": "error",
     "traceback": [
      "\u001B[1;31m---------------------------------------------------------------------------\u001B[0m",
      "\u001B[1;31mAttributeError\u001B[0m                            Traceback (most recent call last)",
      "Cell \u001B[1;32mIn[70], line 2\u001B[0m\n\u001B[0;32m      1\u001B[0m \u001B[38;5;66;03m# flatten the numpy array of list (predictions) into one flat numpy array\u001B[39;00m\n\u001B[1;32m----> 2\u001B[0m predictions2 \u001B[38;5;241m=\u001B[39m \u001B[43mnp\u001B[49m\u001B[38;5;241;43m.\u001B[39;49m\u001B[43marray\u001B[49m\u001B[43m(\u001B[49m\u001B[43mpredictions\u001B[49m\u001B[43m)\u001B[49m\u001B[38;5;241;43m.\u001B[39;49m\u001B[43mconcatenate\u001B[49m()\n",
      "\u001B[1;31mAttributeError\u001B[0m: 'numpy.ndarray' object has no attribute 'concatenate'"
     ]
    }
   ],
   "source": [
    "# flatten the numpy array of list (predictions) into one flat numpy array\n",
    "predictions2 = np.array(predictions).concatenate()"
   ],
   "metadata": {
    "collapsed": false,
    "ExecuteTime": {
     "end_time": "2023-05-23T15:13:00.093262400Z",
     "start_time": "2023-05-23T15:12:59.967080100Z"
    }
   }
  },
  {
   "cell_type": "code",
   "execution_count": 71,
   "outputs": [],
   "source": [
    "predictions2 = np.concatenate(predictions)"
   ],
   "metadata": {
    "collapsed": false,
    "ExecuteTime": {
     "end_time": "2023-05-23T15:13:28.675566600Z",
     "start_time": "2023-05-23T15:13:28.525393Z"
    }
   }
  },
  {
   "cell_type": "code",
   "execution_count": 72,
   "outputs": [
    {
     "data": {
      "text/plain": "array([0.42394842, 0.34127297, 0.05663861, ..., 0.04243624, 0.04505876,\n       0.04243624])"
     },
     "execution_count": 72,
     "metadata": {},
     "output_type": "execute_result"
    }
   ],
   "source": [
    "predictions2"
   ],
   "metadata": {
    "collapsed": false,
    "ExecuteTime": {
     "end_time": "2023-05-23T15:13:32.202427100Z",
     "start_time": "2023-05-23T15:13:32.156511400Z"
    }
   }
  },
  {
   "cell_type": "code",
   "execution_count": 73,
   "outputs": [],
   "source": [
    "# save the predictions2 to a csv file\n",
    "np.savetxt(\"predictions2.csv\", predictions2, delimiter=\",\")"
   ],
   "metadata": {
    "collapsed": false,
    "ExecuteTime": {
     "end_time": "2023-05-23T15:14:48.898437600Z",
     "start_time": "2023-05-23T15:14:45.947536100Z"
    }
   }
  },
  {
   "cell_type": "code",
   "execution_count": 74,
   "outputs": [],
   "source": [
    "affiliate_leads2[\"Prediction\"] = predictions2"
   ],
   "metadata": {
    "collapsed": false,
    "ExecuteTime": {
     "end_time": "2023-05-23T15:17:44.498785900Z",
     "start_time": "2023-05-23T15:17:44.470142500Z"
    }
   }
  },
  {
   "cell_type": "code",
   "execution_count": 79,
   "outputs": [],
   "source": [
    "affiliate_leads2[[\"Prediction\",\"ApplicationId\"]].to_csv(\"predictions_with_id.csv\")"
   ],
   "metadata": {
    "collapsed": false,
    "ExecuteTime": {
     "end_time": "2023-05-23T15:19:02.630308Z",
     "start_time": "2023-05-23T15:18:50.716667900Z"
    }
   }
  },
  {
   "cell_type": "code",
   "execution_count": 76,
   "outputs": [
    {
     "data": {
      "text/plain": "        ApplicationId  App.MainCustomerId  App.ApplicationDate  \\\n0            12857471            12492273  2022-12-01 08:55:00   \n1            12858185            12492987  2022-12-01 12:13:00   \n2            12858412            12493214  2022-12-01 13:16:00   \n3            12858430            12493232  2022-12-01 13:21:00   \n4            12858682            12493484  2022-12-01 14:27:00   \n...               ...                 ...                  ...   \n580101       13541028            13162527  2023-04-24 13:04:00   \n580102       13541028            13162527  2023-04-24 13:04:00   \n580103       13138667            12775547  2023-02-02 21:32:00   \n580104       12922661            12557904  2022-12-18 10:40:00   \n580105       13138667            12775547  2023-02-02 21:32:00   \n\n        App.AmountToFinance App.VehicleType App.Title App.Gender  \\\n0                    7995.0             Car        Mr       Male   \n1                   12995.0             Car        Mr       Male   \n2                    5700.0             Car        Mr       Male   \n3                   17500.0             Car        Mr       Male   \n4                    6500.0             Van        Mr       Male   \n...                     ...             ...       ...        ...   \n580101               7900.0             Car       Mrs     Female   \n580102               7900.0             Car       Mrs     Female   \n580103              30000.0             Car        Mr       Male   \n580104               5000.0             Car        Mr       Male   \n580105              30000.0             Car        Mr       Male   \n\n        App.AgeAtApplication App.Maritalstatus   App.DrivingLicenceType  ...  \\\n0                       57.0           Married    International Licence  ...   \n1                       19.0            Single  Full UK Driving Licence  ...   \n2                       54.0           Married  Full UK Driving Licence  ...   \n3                       56.0           Married  Full UK Driving Licence  ...   \n4                       41.0           Married  Full UK Driving Licence  ...   \n...                      ...               ...                      ...  ...   \n580101                  32.0        Cohabiting  Full UK Driving Licence  ...   \n580102                  32.0        Cohabiting  Full UK Driving Licence  ...   \n580103                  50.0        Cohabiting  Full UK Driving Licence  ...   \n580104                  36.0           Married  Full UK Driving Licence  ...   \n580105                  50.0        Cohabiting  Full UK Driving Licence  ...   \n\n                 Make  GlassAdjustedPrice  Mileage FuelType    Transmission  \\\n0                 NaN                 NaN      NaN      NaN             NaN   \n1                 NaN                 NaN      NaN      NaN             NaN   \n2                 NaN                 NaN      NaN      NaN             NaN   \n3                 NaN                 NaN      NaN      NaN             NaN   \n4                 NaN                 NaN      NaN      NaN             NaN   \n...               ...                 ...      ...      ...             ...   \n580101        PEUGEOT                   0  71182.0   PETROL  MANUAL 5 GEARS   \n580102        PEUGEOT                   0  71182.0   PETROL  MANUAL 5 GEARS   \n580103  MERCEDES-BENZ                   0  76000.0   PETROL    AUTO 7 GEARS   \n580104         NISSAN                   0  98419.0   DIESEL  MANUAL 5 GEARS   \n580105  MERCEDES-BENZ                   0  76000.0   PETROL    AUTO 7 GEARS   \n\n        Colour IsWrittenAgreement IsDocOut  IsApproval  Prediction  \n0          NaN              False    False        True    0.423948  \n1          NaN              False    False       False    0.341273  \n2          NaN              False    False       False    0.056639  \n3          NaN              False    False        True    0.093321  \n4          NaN              False    False        True    0.457911  \n...        ...                ...      ...         ...         ...  \n580101   WHITE               True     True        True    0.169504  \n580102   WHITE               True     True        True    0.208516  \n580103    GREY               True     True        True    0.042436  \n580104   BLACK               True     True        True    0.045059  \n580105    GREY               True     True        True    0.042436  \n\n[580106 rows x 1942 columns]",
      "text/html": "<div>\n<style scoped>\n    .dataframe tbody tr th:only-of-type {\n        vertical-align: middle;\n    }\n\n    .dataframe tbody tr th {\n        vertical-align: top;\n    }\n\n    .dataframe thead th {\n        text-align: right;\n    }\n</style>\n<table border=\"1\" class=\"dataframe\">\n  <thead>\n    <tr style=\"text-align: right;\">\n      <th></th>\n      <th>ApplicationId</th>\n      <th>App.MainCustomerId</th>\n      <th>App.ApplicationDate</th>\n      <th>App.AmountToFinance</th>\n      <th>App.VehicleType</th>\n      <th>App.Title</th>\n      <th>App.Gender</th>\n      <th>App.AgeAtApplication</th>\n      <th>App.Maritalstatus</th>\n      <th>App.DrivingLicenceType</th>\n      <th>...</th>\n      <th>Make</th>\n      <th>GlassAdjustedPrice</th>\n      <th>Mileage</th>\n      <th>FuelType</th>\n      <th>Transmission</th>\n      <th>Colour</th>\n      <th>IsWrittenAgreement</th>\n      <th>IsDocOut</th>\n      <th>IsApproval</th>\n      <th>Prediction</th>\n    </tr>\n  </thead>\n  <tbody>\n    <tr>\n      <th>0</th>\n      <td>12857471</td>\n      <td>12492273</td>\n      <td>2022-12-01 08:55:00</td>\n      <td>7995.0</td>\n      <td>Car</td>\n      <td>Mr</td>\n      <td>Male</td>\n      <td>57.0</td>\n      <td>Married</td>\n      <td>International Licence</td>\n      <td>...</td>\n      <td>NaN</td>\n      <td>NaN</td>\n      <td>NaN</td>\n      <td>NaN</td>\n      <td>NaN</td>\n      <td>NaN</td>\n      <td>False</td>\n      <td>False</td>\n      <td>True</td>\n      <td>0.423948</td>\n    </tr>\n    <tr>\n      <th>1</th>\n      <td>12858185</td>\n      <td>12492987</td>\n      <td>2022-12-01 12:13:00</td>\n      <td>12995.0</td>\n      <td>Car</td>\n      <td>Mr</td>\n      <td>Male</td>\n      <td>19.0</td>\n      <td>Single</td>\n      <td>Full UK Driving Licence</td>\n      <td>...</td>\n      <td>NaN</td>\n      <td>NaN</td>\n      <td>NaN</td>\n      <td>NaN</td>\n      <td>NaN</td>\n      <td>NaN</td>\n      <td>False</td>\n      <td>False</td>\n      <td>False</td>\n      <td>0.341273</td>\n    </tr>\n    <tr>\n      <th>2</th>\n      <td>12858412</td>\n      <td>12493214</td>\n      <td>2022-12-01 13:16:00</td>\n      <td>5700.0</td>\n      <td>Car</td>\n      <td>Mr</td>\n      <td>Male</td>\n      <td>54.0</td>\n      <td>Married</td>\n      <td>Full UK Driving Licence</td>\n      <td>...</td>\n      <td>NaN</td>\n      <td>NaN</td>\n      <td>NaN</td>\n      <td>NaN</td>\n      <td>NaN</td>\n      <td>NaN</td>\n      <td>False</td>\n      <td>False</td>\n      <td>False</td>\n      <td>0.056639</td>\n    </tr>\n    <tr>\n      <th>3</th>\n      <td>12858430</td>\n      <td>12493232</td>\n      <td>2022-12-01 13:21:00</td>\n      <td>17500.0</td>\n      <td>Car</td>\n      <td>Mr</td>\n      <td>Male</td>\n      <td>56.0</td>\n      <td>Married</td>\n      <td>Full UK Driving Licence</td>\n      <td>...</td>\n      <td>NaN</td>\n      <td>NaN</td>\n      <td>NaN</td>\n      <td>NaN</td>\n      <td>NaN</td>\n      <td>NaN</td>\n      <td>False</td>\n      <td>False</td>\n      <td>True</td>\n      <td>0.093321</td>\n    </tr>\n    <tr>\n      <th>4</th>\n      <td>12858682</td>\n      <td>12493484</td>\n      <td>2022-12-01 14:27:00</td>\n      <td>6500.0</td>\n      <td>Van</td>\n      <td>Mr</td>\n      <td>Male</td>\n      <td>41.0</td>\n      <td>Married</td>\n      <td>Full UK Driving Licence</td>\n      <td>...</td>\n      <td>NaN</td>\n      <td>NaN</td>\n      <td>NaN</td>\n      <td>NaN</td>\n      <td>NaN</td>\n      <td>NaN</td>\n      <td>False</td>\n      <td>False</td>\n      <td>True</td>\n      <td>0.457911</td>\n    </tr>\n    <tr>\n      <th>...</th>\n      <td>...</td>\n      <td>...</td>\n      <td>...</td>\n      <td>...</td>\n      <td>...</td>\n      <td>...</td>\n      <td>...</td>\n      <td>...</td>\n      <td>...</td>\n      <td>...</td>\n      <td>...</td>\n      <td>...</td>\n      <td>...</td>\n      <td>...</td>\n      <td>...</td>\n      <td>...</td>\n      <td>...</td>\n      <td>...</td>\n      <td>...</td>\n      <td>...</td>\n      <td>...</td>\n    </tr>\n    <tr>\n      <th>580101</th>\n      <td>13541028</td>\n      <td>13162527</td>\n      <td>2023-04-24 13:04:00</td>\n      <td>7900.0</td>\n      <td>Car</td>\n      <td>Mrs</td>\n      <td>Female</td>\n      <td>32.0</td>\n      <td>Cohabiting</td>\n      <td>Full UK Driving Licence</td>\n      <td>...</td>\n      <td>PEUGEOT</td>\n      <td>0</td>\n      <td>71182.0</td>\n      <td>PETROL</td>\n      <td>MANUAL 5 GEARS</td>\n      <td>WHITE</td>\n      <td>True</td>\n      <td>True</td>\n      <td>True</td>\n      <td>0.169504</td>\n    </tr>\n    <tr>\n      <th>580102</th>\n      <td>13541028</td>\n      <td>13162527</td>\n      <td>2023-04-24 13:04:00</td>\n      <td>7900.0</td>\n      <td>Car</td>\n      <td>Mrs</td>\n      <td>Female</td>\n      <td>32.0</td>\n      <td>Cohabiting</td>\n      <td>Full UK Driving Licence</td>\n      <td>...</td>\n      <td>PEUGEOT</td>\n      <td>0</td>\n      <td>71182.0</td>\n      <td>PETROL</td>\n      <td>MANUAL 5 GEARS</td>\n      <td>WHITE</td>\n      <td>True</td>\n      <td>True</td>\n      <td>True</td>\n      <td>0.208516</td>\n    </tr>\n    <tr>\n      <th>580103</th>\n      <td>13138667</td>\n      <td>12775547</td>\n      <td>2023-02-02 21:32:00</td>\n      <td>30000.0</td>\n      <td>Car</td>\n      <td>Mr</td>\n      <td>Male</td>\n      <td>50.0</td>\n      <td>Cohabiting</td>\n      <td>Full UK Driving Licence</td>\n      <td>...</td>\n      <td>MERCEDES-BENZ</td>\n      <td>0</td>\n      <td>76000.0</td>\n      <td>PETROL</td>\n      <td>AUTO 7 GEARS</td>\n      <td>GREY</td>\n      <td>True</td>\n      <td>True</td>\n      <td>True</td>\n      <td>0.042436</td>\n    </tr>\n    <tr>\n      <th>580104</th>\n      <td>12922661</td>\n      <td>12557904</td>\n      <td>2022-12-18 10:40:00</td>\n      <td>5000.0</td>\n      <td>Car</td>\n      <td>Mr</td>\n      <td>Male</td>\n      <td>36.0</td>\n      <td>Married</td>\n      <td>Full UK Driving Licence</td>\n      <td>...</td>\n      <td>NISSAN</td>\n      <td>0</td>\n      <td>98419.0</td>\n      <td>DIESEL</td>\n      <td>MANUAL 5 GEARS</td>\n      <td>BLACK</td>\n      <td>True</td>\n      <td>True</td>\n      <td>True</td>\n      <td>0.045059</td>\n    </tr>\n    <tr>\n      <th>580105</th>\n      <td>13138667</td>\n      <td>12775547</td>\n      <td>2023-02-02 21:32:00</td>\n      <td>30000.0</td>\n      <td>Car</td>\n      <td>Mr</td>\n      <td>Male</td>\n      <td>50.0</td>\n      <td>Cohabiting</td>\n      <td>Full UK Driving Licence</td>\n      <td>...</td>\n      <td>MERCEDES-BENZ</td>\n      <td>0</td>\n      <td>76000.0</td>\n      <td>PETROL</td>\n      <td>AUTO 7 GEARS</td>\n      <td>GREY</td>\n      <td>True</td>\n      <td>True</td>\n      <td>True</td>\n      <td>0.042436</td>\n    </tr>\n  </tbody>\n</table>\n<p>580106 rows × 1942 columns</p>\n</div>"
     },
     "execution_count": 76,
     "metadata": {},
     "output_type": "execute_result"
    }
   ],
   "source": [
    "affiliate_leads2"
   ],
   "metadata": {
    "collapsed": false,
    "ExecuteTime": {
     "end_time": "2023-05-23T15:18:07.513060700Z",
     "start_time": "2023-05-23T15:18:06.929985300Z"
    }
   }
  },
  {
   "cell_type": "code",
   "execution_count": null,
   "outputs": [],
   "source": [],
   "metadata": {
    "collapsed": false
   }
  }
 ],
 "metadata": {
  "kernelspec": {
   "display_name": "Python 3",
   "language": "python",
   "name": "python3"
  },
  "language_info": {
   "codemirror_mode": {
    "name": "ipython",
    "version": 2
   },
   "file_extension": ".py",
   "mimetype": "text/x-python",
   "name": "python",
   "nbconvert_exporter": "python",
   "pygments_lexer": "ipython2",
   "version": "2.7.6"
  }
 },
 "nbformat": 4,
 "nbformat_minor": 0
}
