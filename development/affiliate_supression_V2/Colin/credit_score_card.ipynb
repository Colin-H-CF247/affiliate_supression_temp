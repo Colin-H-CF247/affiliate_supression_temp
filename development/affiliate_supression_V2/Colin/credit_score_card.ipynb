{
 "cells": [
  {
   "cell_type": "code",
   "execution_count": 2,
   "metadata": {
    "collapsed": true,
    "ExecuteTime": {
     "end_time": "2023-05-23T14:09:54.101047700Z",
     "start_time": "2023-05-23T14:02:39.659603500Z"
    }
   },
   "outputs": [
    {
     "name": "stderr",
     "output_type": "stream",
     "text": [
      "C:\\Users\\Colin.Hanley\\AppData\\Local\\Temp\\ipykernel_14384\\2987357974.py:5: DtypeWarning: Columns (40,53,66,98,100,108,134,140,158,161,162,168,169,170,201,203,204,210,212,214,215,247,253,256,262,299,349,358,400,454,467,469,473,511,535,545,549,587,594,595,645,651,655,673,677,687,699,700,704,755,770,792,795,797,819,870,893,898,899,900,904,909,914,921,922,926,933,938,944,946,947,950,954,958,968,976,985,990,992,998,1009,1019,1028,1042,1068,1069,1095,1100,1113,1115,1131,1132,1137,1142,1155,1157,1166,1171,1173,1183,1184,1186,1187,1190,1194,1207,1216,1221,1223,1252,1258,1260,1261,1268,1275,1277,1279,1281,1283,1286,1290,1291,1292,1293,1294,1297,1326,1330,1334,1340,1341,1342,1343,1344,1348,1353,1383,1384,1392,1409,1412,1414,1417,1423,1426,1428,1433,1435,1443,1447,1448,1455,1460,1461,1466,1470,1476,1490,1491,1492,1494,1501,1504,1509,1517,1518,1519,1523,1533,1539,1546,1573,1582,1591,1607,1611,1615,1623,1631,1635,1648,1650,1661,1664,1686,1696,1702,1704,1705,1708,1711,1714,1740,1741,1748,1762,1764,1766,1774,1783,1802,1819,1822,1828,1829,1832,1848,1851,1854,1860,1861,1867,1879,1889,1891,1900,1904,1910,1911,1918,1919,1920,1922,1923,1928,1930,1933,1938,1939) have mixed types. Specify dtype option on import or set low_memory=False.\n",
      "  affiliate_leads2 = pd.read_csv(\n"
     ]
    }
   ],
   "source": [
    "import pathlib\n",
    "import pandas as pd\n",
    "\n",
    "# read in 4016852c-d13f-4292-9fa8-6b86d7f0b9b8 from the dataset folder into a pandas dataframe\n",
    "affiliate_leads2 = pd.read_csv(\n",
    "    str(pathlib.Path.cwd() / \"4016852c-d13f-4292-9fa8-6b86d7f0b9b8\"))"
   ]
  },
  {
   "cell_type": "code",
   "execution_count": 3,
   "outputs": [
    {
     "name": "stderr",
     "output_type": "stream",
     "text": [
      "C:\\Users\\Colin.Hanley\\AppData\\Local\\anaconda3\\lib\\site-packages\\paramiko\\transport.py:219: CryptographyDeprecationWarning: Blowfish has been deprecated\n",
      "  \"class\": algorithms.Blowfish,\n"
     ]
    }
   ],
   "source": [
    "from datascience_core.data_transformation import ColumnFiller, ColumnRenamer, ValueReplacer\n",
    "import os\n",
    "import pickle\n",
    "\n",
    "\n",
    "class CatTypeCoverter:\n",
    "    pass\n",
    "\n",
    "\n",
    "class ADModel:\n",
    "    def __init__(self, fmt=\"speedy\"):\n",
    "\n",
    "        self.fmt = fmt\n",
    "        self.model = pickle.load(str(pathlib.Path.cwd() / \"AD3_v1.pkl\")\n",
    "        )\n",
    "        # cat feature names\n",
    "        self.make_categorical = list(\n",
    "            pd.DataFrame(data=self.model.get_cat_feature_indices(), columns=[\"indices\"])\n",
    "            .merge(\n",
    "                pd.DataFrame(\n",
    "                    data=self.model.feature_names_, columns=[\"features\"]\n",
    "                ).reset_index(),\n",
    "                how=\"left\",\n",
    "                left_on=\"indices\",\n",
    "                right_on=\"index\",\n",
    "            )[\"features\"]\n",
    "            .values\n",
    "        )\n",
    "\n",
    "        # get top 100 features\n",
    "        dfTop100Features = pd.DataFrame.from_dict(\n",
    "            data={\n",
    "                \"features\": self.model.feature_names_,\n",
    "                \"values\": self.model.feature_importances_,\n",
    "            }\n",
    "        ).sort_values(by=\"values\", ascending=False)[0:100]\n",
    "\n",
    "        self.lsTop100Features = dfTop100Features[\"features\"].values\n",
    "\n",
    "        # preprocessing steps\n",
    "        pre_step = ColumnRenamer(fmt=fmt)\n",
    "        step1 = ColumnFiller(\n",
    "            [\"FE Lender\"], fillValue=\"247 Money\", enforce=False, fmt=fmt\n",
    "        )\n",
    "        step2 = ColumnFiller(\n",
    "            self.model.feature_names_,\n",
    "            self.lsTop100Features,\n",
    "            fmt=fmt,\n",
    "        )\n",
    "        step3 = ValueReplacer(\n",
    "            lsUnwanted=[\n",
    "                \"M\",\n",
    "                \"C\",\n",
    "                \"{ND}\",\n",
    "                \"ND\",\n",
    "                \"OB\",\n",
    "                \"Not Found\",\n",
    "                \"{OB}\",\n",
    "                \"T\",\n",
    "                \"__\",\n",
    "                -999997,\n",
    "                -999999,\n",
    "                999999,\n",
    "                999997,\n",
    "                -999997.0,\n",
    "                -999999.0,\n",
    "                999999.0,\n",
    "                999997.0,\n",
    "                \"-999997\",\n",
    "                \"-999999\",\n",
    "                \"999999\",\n",
    "                \"999997\",\n",
    "                \"-999997.0\",\n",
    "                \"-999999.0\",\n",
    "                \"999999.0\",\n",
    "                \"999997.0\",\n",
    "            ]\n",
    "        )\n",
    "        step4 = CatTypeCoverter(self.make_categorical, fmt=fmt)\n",
    "\n",
    "        self.steps = [pre_step, step1, step2, step3, step4]\n",
    "\n",
    "    def preprocess(self, dfIn):\n",
    "        dfOut = copy.deepcopy(dfIn)\n",
    "        for step in self.steps:\n",
    "            dfOut = step.run_step(dfOut)\n",
    "        return dfOut\n",
    "\n",
    "    def make_prediction(self, dfIn):\n",
    "        if self.fmt == \"speedy\":\n",
    "            return [\n",
    "                self.model.predict_proba(\n",
    "                    dfIn.loc[self.model.feature_names_, \"0\"].values\n",
    "                )[1]\n",
    "            ]\n",
    "        else:\n",
    "            return list(self.model.predict_proba(dfIn[self.model.feature_names_])[:, 1])"
   ],
   "metadata": {
    "collapsed": false,
    "ExecuteTime": {
     "end_time": "2023-05-23T14:13:09.860394700Z",
     "start_time": "2023-05-23T14:12:56.557478300Z"
    }
   }
  },
  {
   "cell_type": "code",
   "execution_count": null,
   "outputs": [],
   "source": [
    "import gc\n",
    "import numpy as np\n",
    "\n",
    "def predict_dataset_in_chunks(data, chunk_size=10000):\n",
    "    total_rows = len(data)\n",
    "    num_chunks = int(np.ceil(total_rows / chunk_size))\n",
    "\n",
    "    model = ADModel()\n",
    "    predictions_list = []\n",
    "\n",
    "    for i in range(num_chunks):\n",
    "        start_index = i * chunk_size\n",
    "        end_index = min((i + 1) * chunk_size, total_rows)\n",
    "        chunk_data = data[start_index:end_index]\n",
    "        print(f\"Processing chunk {i+1}/{num_chunks}...\")\n",
    "\n",
    "        preprocessed_data = model.preprocess(chunk_data)\n",
    "        predictions = model.make_prediction(preprocessed_data)\n",
    "        predictions_list.append(predictions)\n",
    "\n",
    "        del preprocessed_data, predictions\n",
    "        gc.collect()\n",
    "\n",
    "    return np.array(predictions_list).flatten()"
   ],
   "metadata": {
    "collapsed": false
   }
  },
  {
   "cell_type": "code",
   "execution_count": null,
   "outputs": [],
   "source": [
    "predictions = predict_dataset_in_chunks(affiliate_leads2,10000)"
   ],
   "metadata": {
    "collapsed": false
   }
  },
  {
   "cell_type": "code",
   "execution_count": 4,
   "outputs": [
    {
     "data": {
      "text/plain": "        ApplicationId  App.MainCustomerId  App.ApplicationDate  \\\n0            12857471            12492273  2022-12-01 08:55:00   \n1            12858185            12492987  2022-12-01 12:13:00   \n2            12858412            12493214  2022-12-01 13:16:00   \n3            12858430            12493232  2022-12-01 13:21:00   \n4            12858682            12493484  2022-12-01 14:27:00   \n...               ...                 ...                  ...   \n580101       13541028            13162527  2023-04-24 13:04:00   \n580102       13541028            13162527  2023-04-24 13:04:00   \n580103       13138667            12775547  2023-02-02 21:32:00   \n580104       12922661            12557904  2022-12-18 10:40:00   \n580105       13138667            12775547  2023-02-02 21:32:00   \n\n        App.AmountToFinance App.VehicleType App.Title App.Gender  \\\n0                    7995.0             Car        Mr       Male   \n1                   12995.0             Car        Mr       Male   \n2                    5700.0             Car        Mr       Male   \n3                   17500.0             Car        Mr       Male   \n4                    6500.0             Van        Mr       Male   \n...                     ...             ...       ...        ...   \n580101               7900.0             Car       Mrs     Female   \n580102               7900.0             Car       Mrs     Female   \n580103              30000.0             Car        Mr       Male   \n580104               5000.0             Car        Mr       Male   \n580105              30000.0             Car        Mr       Male   \n\n        App.AgeAtApplication App.Maritalstatus   App.DrivingLicenceType  ...  \\\n0                       57.0           Married    International Licence  ...   \n1                       19.0            Single  Full UK Driving Licence  ...   \n2                       54.0           Married  Full UK Driving Licence  ...   \n3                       56.0           Married  Full UK Driving Licence  ...   \n4                       41.0           Married  Full UK Driving Licence  ...   \n...                      ...               ...                      ...  ...   \n580101                  32.0        Cohabiting  Full UK Driving Licence  ...   \n580102                  32.0        Cohabiting  Full UK Driving Licence  ...   \n580103                  50.0        Cohabiting  Full UK Driving Licence  ...   \n580104                  36.0           Married  Full UK Driving Licence  ...   \n580105                  50.0        Cohabiting  Full UK Driving Licence  ...   \n\n        DateFirstRegistered           Make  GlassAdjustedPrice  Mileage  \\\n0                       NaN            NaN                 NaN      NaN   \n1                       NaN            NaN                 NaN      NaN   \n2                       NaN            NaN                 NaN      NaN   \n3                       NaN            NaN                 NaN      NaN   \n4                       NaN            NaN                 NaN      NaN   \n...                     ...            ...                 ...      ...   \n580101  2017-03-29 00:00:00        PEUGEOT                   0  71182.0   \n580102  2017-03-29 00:00:00        PEUGEOT                   0  71182.0   \n580103  2016-07-30 00:00:00  MERCEDES-BENZ                   0  76000.0   \n580104  2014-07-03 00:00:00         NISSAN                   0  98419.0   \n580105  2016-07-30 00:00:00  MERCEDES-BENZ                   0  76000.0   \n\n       FuelType    Transmission Colour IsWrittenAgreement  IsDocOut  \\\n0           NaN             NaN    NaN              False     False   \n1           NaN             NaN    NaN              False     False   \n2           NaN             NaN    NaN              False     False   \n3           NaN             NaN    NaN              False     False   \n4           NaN             NaN    NaN              False     False   \n...         ...             ...    ...                ...       ...   \n580101   PETROL  MANUAL 5 GEARS  WHITE               True      True   \n580102   PETROL  MANUAL 5 GEARS  WHITE               True      True   \n580103   PETROL    AUTO 7 GEARS   GREY               True      True   \n580104   DIESEL  MANUAL 5 GEARS  BLACK               True      True   \n580105   PETROL    AUTO 7 GEARS   GREY               True      True   \n\n        IsApproval  \n0             True  \n1            False  \n2            False  \n3             True  \n4             True  \n...            ...  \n580101        True  \n580102        True  \n580103        True  \n580104        True  \n580105        True  \n\n[580106 rows x 1941 columns]",
      "text/html": "<div>\n<style scoped>\n    .dataframe tbody tr th:only-of-type {\n        vertical-align: middle;\n    }\n\n    .dataframe tbody tr th {\n        vertical-align: top;\n    }\n\n    .dataframe thead th {\n        text-align: right;\n    }\n</style>\n<table border=\"1\" class=\"dataframe\">\n  <thead>\n    <tr style=\"text-align: right;\">\n      <th></th>\n      <th>ApplicationId</th>\n      <th>App.MainCustomerId</th>\n      <th>App.ApplicationDate</th>\n      <th>App.AmountToFinance</th>\n      <th>App.VehicleType</th>\n      <th>App.Title</th>\n      <th>App.Gender</th>\n      <th>App.AgeAtApplication</th>\n      <th>App.Maritalstatus</th>\n      <th>App.DrivingLicenceType</th>\n      <th>...</th>\n      <th>DateFirstRegistered</th>\n      <th>Make</th>\n      <th>GlassAdjustedPrice</th>\n      <th>Mileage</th>\n      <th>FuelType</th>\n      <th>Transmission</th>\n      <th>Colour</th>\n      <th>IsWrittenAgreement</th>\n      <th>IsDocOut</th>\n      <th>IsApproval</th>\n    </tr>\n  </thead>\n  <tbody>\n    <tr>\n      <th>0</th>\n      <td>12857471</td>\n      <td>12492273</td>\n      <td>2022-12-01 08:55:00</td>\n      <td>7995.0</td>\n      <td>Car</td>\n      <td>Mr</td>\n      <td>Male</td>\n      <td>57.0</td>\n      <td>Married</td>\n      <td>International Licence</td>\n      <td>...</td>\n      <td>NaN</td>\n      <td>NaN</td>\n      <td>NaN</td>\n      <td>NaN</td>\n      <td>NaN</td>\n      <td>NaN</td>\n      <td>NaN</td>\n      <td>False</td>\n      <td>False</td>\n      <td>True</td>\n    </tr>\n    <tr>\n      <th>1</th>\n      <td>12858185</td>\n      <td>12492987</td>\n      <td>2022-12-01 12:13:00</td>\n      <td>12995.0</td>\n      <td>Car</td>\n      <td>Mr</td>\n      <td>Male</td>\n      <td>19.0</td>\n      <td>Single</td>\n      <td>Full UK Driving Licence</td>\n      <td>...</td>\n      <td>NaN</td>\n      <td>NaN</td>\n      <td>NaN</td>\n      <td>NaN</td>\n      <td>NaN</td>\n      <td>NaN</td>\n      <td>NaN</td>\n      <td>False</td>\n      <td>False</td>\n      <td>False</td>\n    </tr>\n    <tr>\n      <th>2</th>\n      <td>12858412</td>\n      <td>12493214</td>\n      <td>2022-12-01 13:16:00</td>\n      <td>5700.0</td>\n      <td>Car</td>\n      <td>Mr</td>\n      <td>Male</td>\n      <td>54.0</td>\n      <td>Married</td>\n      <td>Full UK Driving Licence</td>\n      <td>...</td>\n      <td>NaN</td>\n      <td>NaN</td>\n      <td>NaN</td>\n      <td>NaN</td>\n      <td>NaN</td>\n      <td>NaN</td>\n      <td>NaN</td>\n      <td>False</td>\n      <td>False</td>\n      <td>False</td>\n    </tr>\n    <tr>\n      <th>3</th>\n      <td>12858430</td>\n      <td>12493232</td>\n      <td>2022-12-01 13:21:00</td>\n      <td>17500.0</td>\n      <td>Car</td>\n      <td>Mr</td>\n      <td>Male</td>\n      <td>56.0</td>\n      <td>Married</td>\n      <td>Full UK Driving Licence</td>\n      <td>...</td>\n      <td>NaN</td>\n      <td>NaN</td>\n      <td>NaN</td>\n      <td>NaN</td>\n      <td>NaN</td>\n      <td>NaN</td>\n      <td>NaN</td>\n      <td>False</td>\n      <td>False</td>\n      <td>True</td>\n    </tr>\n    <tr>\n      <th>4</th>\n      <td>12858682</td>\n      <td>12493484</td>\n      <td>2022-12-01 14:27:00</td>\n      <td>6500.0</td>\n      <td>Van</td>\n      <td>Mr</td>\n      <td>Male</td>\n      <td>41.0</td>\n      <td>Married</td>\n      <td>Full UK Driving Licence</td>\n      <td>...</td>\n      <td>NaN</td>\n      <td>NaN</td>\n      <td>NaN</td>\n      <td>NaN</td>\n      <td>NaN</td>\n      <td>NaN</td>\n      <td>NaN</td>\n      <td>False</td>\n      <td>False</td>\n      <td>True</td>\n    </tr>\n    <tr>\n      <th>...</th>\n      <td>...</td>\n      <td>...</td>\n      <td>...</td>\n      <td>...</td>\n      <td>...</td>\n      <td>...</td>\n      <td>...</td>\n      <td>...</td>\n      <td>...</td>\n      <td>...</td>\n      <td>...</td>\n      <td>...</td>\n      <td>...</td>\n      <td>...</td>\n      <td>...</td>\n      <td>...</td>\n      <td>...</td>\n      <td>...</td>\n      <td>...</td>\n      <td>...</td>\n      <td>...</td>\n    </tr>\n    <tr>\n      <th>580101</th>\n      <td>13541028</td>\n      <td>13162527</td>\n      <td>2023-04-24 13:04:00</td>\n      <td>7900.0</td>\n      <td>Car</td>\n      <td>Mrs</td>\n      <td>Female</td>\n      <td>32.0</td>\n      <td>Cohabiting</td>\n      <td>Full UK Driving Licence</td>\n      <td>...</td>\n      <td>2017-03-29 00:00:00</td>\n      <td>PEUGEOT</td>\n      <td>0</td>\n      <td>71182.0</td>\n      <td>PETROL</td>\n      <td>MANUAL 5 GEARS</td>\n      <td>WHITE</td>\n      <td>True</td>\n      <td>True</td>\n      <td>True</td>\n    </tr>\n    <tr>\n      <th>580102</th>\n      <td>13541028</td>\n      <td>13162527</td>\n      <td>2023-04-24 13:04:00</td>\n      <td>7900.0</td>\n      <td>Car</td>\n      <td>Mrs</td>\n      <td>Female</td>\n      <td>32.0</td>\n      <td>Cohabiting</td>\n      <td>Full UK Driving Licence</td>\n      <td>...</td>\n      <td>2017-03-29 00:00:00</td>\n      <td>PEUGEOT</td>\n      <td>0</td>\n      <td>71182.0</td>\n      <td>PETROL</td>\n      <td>MANUAL 5 GEARS</td>\n      <td>WHITE</td>\n      <td>True</td>\n      <td>True</td>\n      <td>True</td>\n    </tr>\n    <tr>\n      <th>580103</th>\n      <td>13138667</td>\n      <td>12775547</td>\n      <td>2023-02-02 21:32:00</td>\n      <td>30000.0</td>\n      <td>Car</td>\n      <td>Mr</td>\n      <td>Male</td>\n      <td>50.0</td>\n      <td>Cohabiting</td>\n      <td>Full UK Driving Licence</td>\n      <td>...</td>\n      <td>2016-07-30 00:00:00</td>\n      <td>MERCEDES-BENZ</td>\n      <td>0</td>\n      <td>76000.0</td>\n      <td>PETROL</td>\n      <td>AUTO 7 GEARS</td>\n      <td>GREY</td>\n      <td>True</td>\n      <td>True</td>\n      <td>True</td>\n    </tr>\n    <tr>\n      <th>580104</th>\n      <td>12922661</td>\n      <td>12557904</td>\n      <td>2022-12-18 10:40:00</td>\n      <td>5000.0</td>\n      <td>Car</td>\n      <td>Mr</td>\n      <td>Male</td>\n      <td>36.0</td>\n      <td>Married</td>\n      <td>Full UK Driving Licence</td>\n      <td>...</td>\n      <td>2014-07-03 00:00:00</td>\n      <td>NISSAN</td>\n      <td>0</td>\n      <td>98419.0</td>\n      <td>DIESEL</td>\n      <td>MANUAL 5 GEARS</td>\n      <td>BLACK</td>\n      <td>True</td>\n      <td>True</td>\n      <td>True</td>\n    </tr>\n    <tr>\n      <th>580105</th>\n      <td>13138667</td>\n      <td>12775547</td>\n      <td>2023-02-02 21:32:00</td>\n      <td>30000.0</td>\n      <td>Car</td>\n      <td>Mr</td>\n      <td>Male</td>\n      <td>50.0</td>\n      <td>Cohabiting</td>\n      <td>Full UK Driving Licence</td>\n      <td>...</td>\n      <td>2016-07-30 00:00:00</td>\n      <td>MERCEDES-BENZ</td>\n      <td>0</td>\n      <td>76000.0</td>\n      <td>PETROL</td>\n      <td>AUTO 7 GEARS</td>\n      <td>GREY</td>\n      <td>True</td>\n      <td>True</td>\n      <td>True</td>\n    </tr>\n  </tbody>\n</table>\n<p>580106 rows × 1941 columns</p>\n</div>"
     },
     "execution_count": 4,
     "metadata": {},
     "output_type": "execute_result"
    }
   ],
   "source": [
    "affiliate_leads2"
   ],
   "metadata": {
    "collapsed": false,
    "ExecuteTime": {
     "end_time": "2023-05-23T14:21:17.671152100Z",
     "start_time": "2023-05-23T14:21:16.842067700Z"
    }
   }
  },
  {
   "cell_type": "code",
   "execution_count": 8,
   "outputs": [
    {
     "data": {
      "text/plain": "array(['ckdirect', 'experian', 'youngcardriver', nan, 'parkers',\n       'totallymoney', 'lendingexpert', 'awin', 'affiliatewindow'],\n      dtype=object)"
     },
     "execution_count": 8,
     "metadata": {},
     "output_type": "execute_result"
    }
   ],
   "source": [
    "affiliate_leads2[\"UTMSource\"][affiliate_leads2[\"UTMMedium\"] == \"affiliate\"].unique()"
   ],
   "metadata": {
    "collapsed": false,
    "ExecuteTime": {
     "end_time": "2023-05-23T14:24:05.374881900Z",
     "start_time": "2023-05-23T14:24:05.313118400Z"
    }
   }
  },
  {
   "cell_type": "code",
   "execution_count": null,
   "outputs": [],
   "source": [],
   "metadata": {
    "collapsed": false
   }
  }
 ],
 "metadata": {
  "kernelspec": {
   "display_name": "Python 3",
   "language": "python",
   "name": "python3"
  },
  "language_info": {
   "codemirror_mode": {
    "name": "ipython",
    "version": 2
   },
   "file_extension": ".py",
   "mimetype": "text/x-python",
   "name": "python",
   "nbconvert_exporter": "python",
   "pygments_lexer": "ipython2",
   "version": "2.7.6"
  }
 },
 "nbformat": 4,
 "nbformat_minor": 0
}
